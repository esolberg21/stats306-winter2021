{
  "nbformat": 4,
  "nbformat_minor": 0,
  "metadata": {
    "colab": {
      "name": "Eric HW6.ipynb",
      "provenance": [],
      "collapsed_sections": [],
      "include_colab_link": true
    },
    "kernelspec": {
      "display_name": "R",
      "language": "R",
      "name": "ir"
    },
    "language_info": {
      "codemirror_mode": "r",
      "file_extension": ".r",
      "mimetype": "text/x-r-source",
      "name": "R",
      "pygments_lexer": "r",
      "version": "4.0.4"
    }
  },
  "cells": [
    {
      "cell_type": "markdown",
      "metadata": {
        "id": "view-in-github",
        "colab_type": "text"
      },
      "source": [
        "<a href=\"https://colab.research.google.com/github/esolberg21/stats306-winter2021/blob/main/Eric_HW6.ipynb\" target=\"_parent\"><img src=\"https://colab.research.google.com/assets/colab-badge.svg\" alt=\"Open In Colab\"/></a>"
      ]
    },
    {
      "cell_type": "markdown",
      "metadata": {
        "id": "2KRyy01aXRV6"
      },
      "source": [
        "## STATS 306 WI 2021, HW 6, _20 points_\n",
        "\n",
        "Assigned: 04/07/2021\n",
        "\n",
        "Due: 04/14/2021  \n",
        "For full credit, your canvas upload needs to occur by 3:00 am EST on 04/15/2021."
      ]
    },
    {
      "cell_type": "markdown",
      "metadata": {
        "id": "ERLNuISbXRWA"
      },
      "source": [
        "### Instructions"
      ]
    },
    {
      "cell_type": "markdown",
      "metadata": {
        "id": "5LmebnZ2XRWB"
      },
      "source": [
        "* Before you submit the problem set, make sure everything runs as expected. Go to the menu bar at the top of Jupyter Notebook and click `Kernel > Restart & Run All` . Equivalently in Colab, `Runtime > Restart & Run All`. Your code should run from top to bottom with no errors. Failure to do this will result in loss of points.\n",
        "\n",
        "* Each problem has their own answer cell. Depending on the problem, the answer cell is a Markdown cell (to type text answers) or a Code cell (to type R code). Please write your answer in the designated cell. If you want to add addtional cells make sure to add them just below the designated cell.\n",
        "\n",
        "* After you done with running your code, use `Ctrl` or `⌘` + `p` then click `save as pdf` to save your homework as pdf file. Do not use pdf exporter feature of jupyter! You are not going to upload your `.ipynb` file, we just need the `.pdf`. It is your responsibility to ensure that your answers are clearly visible in the pdf file you upload to Canvas.\n",
        "\n",
        "* Use Slack `#hw6` channel to discuss the problems and ask for clarifications. **But please be careful not to post an answer or part of an answer**. Doing so may result in loss of points and/or disqualification from submitting the homework.\n",
        "\n",
        "* **Late submissions will not be accepted** (unless there is a documented emergency)."
      ]
    },
    {
      "cell_type": "markdown",
      "metadata": {
        "id": "8aQaYzN4XRWC"
      },
      "source": [
        "### Required Packages"
      ]
    },
    {
      "cell_type": "code",
      "metadata": {
        "id": "jAHWvrp_XRWC",
        "colab": {
          "base_uri": "https://localhost:8080/",
          "height": 364
        },
        "outputId": "07dcb32f-3b26-4ef7-ee36-b6432da60aaf"
      },
      "source": [
        "library(tidyverse)\n",
        "library(nycflights13)\n",
        "library(modelr)"
      ],
      "execution_count": 1,
      "outputs": [
        {
          "output_type": "stream",
          "text": [
            "Warning message in system(\"timedatectl\", intern = TRUE):\n",
            "“running command 'timedatectl' had status 1”\n",
            "── \u001b[1mAttaching packages\u001b[22m ─────────────────────────────────────── tidyverse 1.3.0 ──\n",
            "\n",
            "\u001b[32m✔\u001b[39m \u001b[34mggplot2\u001b[39m 3.3.3     \u001b[32m✔\u001b[39m \u001b[34mpurrr  \u001b[39m 0.3.4\n",
            "\u001b[32m✔\u001b[39m \u001b[34mtibble \u001b[39m 3.1.0     \u001b[32m✔\u001b[39m \u001b[34mdplyr  \u001b[39m 1.0.5\n",
            "\u001b[32m✔\u001b[39m \u001b[34mtidyr  \u001b[39m 1.1.3     \u001b[32m✔\u001b[39m \u001b[34mstringr\u001b[39m 1.4.0\n",
            "\u001b[32m✔\u001b[39m \u001b[34mreadr  \u001b[39m 1.4.0     \u001b[32m✔\u001b[39m \u001b[34mforcats\u001b[39m 0.5.1\n",
            "\n",
            "── \u001b[1mConflicts\u001b[22m ────────────────────────────────────────── tidyverse_conflicts() ──\n",
            "\u001b[31m✖\u001b[39m \u001b[34mdplyr\u001b[39m::\u001b[32mfilter()\u001b[39m masks \u001b[34mstats\u001b[39m::filter()\n",
            "\u001b[31m✖\u001b[39m \u001b[34mdplyr\u001b[39m::\u001b[32mlag()\u001b[39m    masks \u001b[34mstats\u001b[39m::lag()\n",
            "\n"
          ],
          "name": "stderr"
        },
        {
          "output_type": "error",
          "ename": "ERROR",
          "evalue": "ignored",
          "traceback": [
            "Error in library(nycflights13): there is no package called ‘nycflights13’\nTraceback:\n",
            "1. library(nycflights13)"
          ]
        }
      ]
    },
    {
      "cell_type": "markdown",
      "metadata": {
        "id": "Jerojo7j4Jjx"
      },
      "source": [
        "### Problem 0, _1 point_"
      ]
    },
    {
      "cell_type": "markdown",
      "metadata": {
        "id": "cdSeGFWF4Jjy"
      },
      "source": [
        "**(1)** Fill out the online teaching evaluation form for STATS 306 on the Canvas website. These evaluations are anonymous and I do not get access to them until I have already submitted course grades. I do get to see how many students have submitted the evaluation form. This single point will be awarded to everyone, or to no one, depending on whether I receive evaluations from at least 90% of the students enrolled in the course. _1 point_"
      ]
    },
    {
      "cell_type": "markdown",
      "metadata": {
        "id": "kT9Vl45xXRWD"
      },
      "source": [
        "### Problem 1, _4 points_"
      ]
    },
    {
      "cell_type": "markdown",
      "metadata": {
        "id": "8Ovq42JAXRWE"
      },
      "source": [
        "**(1)** According to Wikipedia: \"Every year that is exactly divisible by four is a leap year, except for years that are exactly divisible by 100, but these centurial years are leap years if they are exactly divisible by 400. For example, the years 1700, 1800, and 1900 were not leap years, but the years 1600 and 2000 were\".\n",
        "\n",
        "Write a function `is_leap_year` that takes as input `x`, a numeric vector, and returns a logical vector with `TRUE` in places that correspond to leap years. If the input vector is not numeric, your function should return `NULL`. _3 points_\n",
        "\n",
        "```\n",
        "> is_leap_year(1996)\n",
        "[1] TRUE\n",
        "> is_leap_year(2000)\n",
        "[1] TRUE\n",
        "> is_leap_year(1900)\n",
        "[1] FALSE\n",
        "> is_leap_year(1700)\n",
        "[1] FALSE\n",
        "> is_leap_year(\"test\")\n",
        "NULL\n",
        "> is_leap_year(c(1700, 1800, 1900, 2000, 2100))\n",
        "[1] FALSE FALSE FALSE  TRUE FALSE\n",
        "> is_leap_year(c(\"A\", \"B\", \"C\"))\n",
        "NULL\n",
        "```"
      ]
    },
    {
      "cell_type": "code",
      "metadata": {
        "id": "6E75WFkNXRWE"
      },
      "source": [
        "is_leap_year = function(x){\n",
        "  if (class(is_leap_year[x]) != numeric) \n",
        "  return(x %% 400 == 0 | x %% 100 == 0 | x %% 4 == 0) \n",
        "}\n",
        "\n"
      ],
      "execution_count": null,
      "outputs": []
    },
    {
      "cell_type": "code",
      "metadata": {
        "id": "l2I4wYV54Jjz"
      },
      "source": [
        "# DO NOT EDIT THIS CELL\n",
        "is_leap_year(1996)\n",
        "is_leap_year(2000)\n",
        "is_leap_year(1900)\n",
        "is_leap_year(1700)\n",
        "is_leap_year(\"test\")\n",
        "is_leap_year(c(1700, 1800, 1900, 2000, 2100))\n",
        "is_leap_year(c(\"A\", \"B\", \"C\"))"
      ],
      "execution_count": null,
      "outputs": []
    },
    {
      "cell_type": "markdown",
      "metadata": {
        "id": "_YWYcDox8b8B"
      },
      "source": [
        "**(2)** Using the function `is_leap_year`, define a function `num_leap_years` that returns the number of leap years in the input vector. _2 points_\n",
        "\n",
        "```\n",
        "> num_leap_years(1990:2010)\n",
        "[1] 5\n",
        "> num_leap_years(1890:1910)\n",
        "[1] 4\n",
        "```"
      ]
    },
    {
      "cell_type": "code",
      "metadata": {
        "id": "8xLNxFZS4Jj0"
      },
      "source": [
        "num_leap_years <- function(x){\n",
        " sum(is_leap_year(x))\n",
        "}\n"
      ],
      "execution_count": null,
      "outputs": []
    },
    {
      "cell_type": "code",
      "metadata": {
        "id": "nrgYACfM4Jj0"
      },
      "source": [
        "# DO NOT EDIT THIS CELL\n",
        "num_leap_years(1990:2010)\n",
        "num_leap_years(1890:1910)"
      ],
      "execution_count": null,
      "outputs": []
    },
    {
      "cell_type": "markdown",
      "metadata": {
        "id": "d8Oa7FORXRWG"
      },
      "source": [
        "### Problem 2, _5 points_"
      ]
    },
    {
      "cell_type": "markdown",
      "metadata": {
        "id": "nnnBpZ1CXRWH"
      },
      "source": [
        "**(1)** Bob creates a tibble `bob_tbl` and tells Alice that it prints as follows:\n",
        "```\n",
        "> print(bob_tbl)\n",
        "# A tibble: 3 x 2\n",
        "  name      age\n",
        "  <chr>   <dbl>\n",
        "1 Alice      22\n",
        "2 Bob        23\n",
        "3 Charlie    NA\n",
        "```\n",
        "Alice tries to create an exact copy of `bob_tbl` and types the following code"
      ]
    },
    {
      "cell_type": "code",
      "metadata": {
        "id": "kfVPjPZ74Jj0"
      },
      "source": [
        "alice_tbl <- tibble(\n",
        "    name = c(\"Alice\", \"Bob\", \"Charlie\"),\n",
        "    age = c(22, 23, \"NA\")\n",
        ")"
      ],
      "execution_count": null,
      "outputs": []
    },
    {
      "cell_type": "markdown",
      "metadata": {
        "id": "euy7_BwR4Jj1"
      },
      "source": [
        "To her surprise, her command does not create a tibble identical to Bob's:\n",
        "```\n",
        "> print(alice_tbl)\n",
        "# A tibble: 3 x 2\n",
        "  name    age  \n",
        "  <chr>   <chr>\n",
        "1 Alice   22   \n",
        "2 Bob     23   \n",
        "3 Charlie NA  \n",
        "```"
      ]
    },
    {
      "cell_type": "markdown",
      "metadata": {
        "id": "49ZeWTlg4Jj1"
      },
      "source": [
        "What is the difference between the two tibbles? _1 point_"
      ]
    },
    {
      "cell_type": "markdown",
      "metadata": {
        "id": "RyFCSqQz4Jj1"
      },
      "source": [
        "In Alice's tibble, the age values are characters versus Bobs values being integers\n"
      ]
    },
    {
      "cell_type": "markdown",
      "metadata": {
        "id": "P02JnccV4Jj1"
      },
      "source": [
        "**(2)** What caused this difference? _2 points_"
      ]
    },
    {
      "cell_type": "markdown",
      "metadata": {
        "id": "9aKa92eR4Jj1"
      },
      "source": [
        "The NA in the age variable caused it to be a characte when it should be a double. \n"
      ]
    },
    {
      "cell_type": "markdown",
      "metadata": {
        "id": "Mj9r6lOD4Jj1"
      },
      "source": [
        "**(3)** Define `alice_tbl` correctly below to that it becomes identical to `bob_tbl`. _1 point_"
      ]
    },
    {
      "cell_type": "code",
      "metadata": {
        "id": "nEJqj2el4Jj1"
      },
      "source": [
        "alice_tb2 <- tibble(\n",
        "    name = c(\"Alice\", \"Bob\", \"Charlie\"),\n",
        "    age = c(22, 23, NA)\n",
        ")"
      ],
      "execution_count": null,
      "outputs": []
    },
    {
      "cell_type": "code",
      "metadata": {
        "id": "SCp8plkO4Jj2"
      },
      "source": [
        "# DO NOT EDIT THIS CELL\n",
        "print(alice_tb2)"
      ],
      "execution_count": null,
      "outputs": []
    },
    {
      "cell_type": "markdown",
      "metadata": {
        "id": "seyZhdJH4Jj2"
      },
      "source": [
        "**(4)** Using the right dplyr verb, convert the `age` column of `alice_tbl` to type integer and assign the result to the variable `alice_tbl2`. _1 point_ "
      ]
    },
    {
      "cell_type": "code",
      "metadata": {
        "id": "wrOg1yCd4Jj2"
      },
      "source": [
        "alice_tb12 <- tibble(\n",
        "    name = c(\"Alice\", \"Bob\", \"Charlie\"),\n",
        "    age = as.integer((c(22, 23, NA)))\n",
        "    )"
      ],
      "execution_count": null,
      "outputs": []
    },
    {
      "cell_type": "code",
      "metadata": {
        "id": "uidmYeEH4Jj2"
      },
      "source": [
        "print(alice_tbl2)"
      ],
      "execution_count": null,
      "outputs": []
    },
    {
      "cell_type": "markdown",
      "metadata": {
        "id": "dgC_Tg_lXRWI"
      },
      "source": [
        "### Problem 3, _5 points_"
      ]
    },
    {
      "cell_type": "markdown",
      "metadata": {
        "id": "ZzxrsYjnXRWI"
      },
      "source": [
        "**(1)** Write a function `type_of_columns` that takes a tibble as an input and outputs a character vector containing the types of all columns of the input tibble. Please use `typeof()` to get the types of columns. _3 points_"
      ]
    },
    {
      "cell_type": "code",
      "metadata": {
        "id": "YuF6nEqM4Jj3"
      },
      "source": [
        "type_of_columns <- function(x){\n",
        "  output <- vector(\"character\", length(df))\n",
        "  for (i in seq_along(x)){\n",
        "    output[[i]] <- typeof(x[[i]])\n",
        "  }\n",
        "  return(output)\n",
        "}\n",
        "\n"
      ],
      "execution_count": null,
      "outputs": []
    },
    {
      "cell_type": "code",
      "metadata": {
        "id": "yRTVUrQB4Jj3"
      },
      "source": [
        "# DO NOT EDIT THIS CELL\n",
        "type_of_columns(mpg)\n",
        "type_of_columns(diamonds)"
      ],
      "execution_count": null,
      "outputs": []
    },
    {
      "cell_type": "markdown",
      "metadata": {
        "id": "V6zsRgDD4Jj4"
      },
      "source": [
        "For your reference, the correct answers for the two test cases above are shown below:\n",
        "```\n",
        "> print(type_of_columns(mpg))\n",
        " [1] \"character\" \"character\" \"double\"    \"integer\"   \"integer\"   \"character\" \"character\" \"integer\"   \"integer\"   \"character\" \"character\"\n",
        "> print(type_of_columns(diamonds))\n",
        " [1] \"double\"  \"integer\" \"integer\" \"integer\" \"double\"  \"double\"  \"integer\" \"double\"  \"double\"  \"double\"\n",
        "```\n",
        "Please note that `typeof()` returns `\"integer\"` for factors too."
      ]
    },
    {
      "cell_type": "markdown",
      "metadata": {
        "id": "nfskWNiYXRWI"
      },
      "source": [
        "**(2)** Use loops to print the nursery rhyme \"Hickory dickory dock\". Only use the variables we have defined for you already. Do not create any new string variables in your solution. Please use `writeLines()` for proper formatting. Note that individial lines do not have any spaces at the front. Pay attention to punctuation marks like commas and periods. Spacing between the lines of a stanza is one line and that between stanzas is three lines. Also note that there is no spacing before the first stanza and after the last one. This is how the nursery rhyme should appear in your result: _2 points_\n",
        "\n",
        "```\n",
        "Hickory dickory dock,\n",
        "\n",
        "The mouse ran up the clock,\n",
        "\n",
        "The clock struck one\n",
        "\n",
        "The mouse ran down\n",
        "\n",
        "Hickory dickory dock.\n",
        "\n",
        "\n",
        "\n",
        "Hickory dickory dock,\n",
        "\n",
        "The mouse ran up the clock,\n",
        "\n",
        "The clock struck two\n",
        "\n",
        "The mouse turned blue\n",
        "\n",
        "Hickory dickory dock.\n",
        "\n",
        "\n",
        "\n",
        "Hickory dickory dock,\n",
        "\n",
        "The mouse ran up the clock,\n",
        "\n",
        "The clock struck three\n",
        "\n",
        "He drank his tea\n",
        "\n",
        "Hickory dickory dock.\n",
        "\n",
        "\n",
        "\n",
        "Hickory dickory dock,\n",
        "\n",
        "The mouse ran up the clock,\n",
        "\n",
        "The clock struck four\n",
        "\n",
        "Look at him snore\n",
        "\n",
        "Hickory dickory dock.\n",
        "\n",
        "\n",
        "\n",
        "Hickory dickory dock,\n",
        "\n",
        "The mouse ran up the clock,\n",
        "\n",
        "The clock struck five\n",
        "\n",
        "He went to hide\n",
        "\n",
        "Hickory dickory dock.\n",
        "\n",
        "\n",
        "\n",
        "Hickory dickory dock,\n",
        "\n",
        "The mouse ran up the clock,\n",
        "\n",
        "The clock struck six\n",
        "\n",
        "He licked his lips\n",
        "\n",
        "Hickory dickory dock.\n",
        "```"
      ]
    },
    {
      "cell_type": "code",
      "metadata": {
        "id": "DC3qWxch4Jj4"
      },
      "source": [
        "# USE ONLY THE FOLLOWING VARIABLES IN YOUR SOLUTION\n",
        "hickory <- \"Hickory dickory dock\"\n",
        "mouse <- \"The mouse ran up the clock\"\n",
        "clock <- \"The clock struck \"\n",
        "number_names <- c(\"one\", \"two\", \"three\", \"four\", \"five\", \"six\")\n",
        "line4_options <- c(\n",
        "    \"The mouse ran down\",\n",
        "    \"The mouse turned blue\",\n",
        "    \"He drank his tea\",\n",
        "    \"Look at him snore\",\n",
        "    \"He went to hide\",\n",
        "    \"He licked his lips\"\n",
        ")"
      ],
      "execution_count": null,
      "outputs": []
    },
    {
      "cell_type": "code",
      "metadata": {
        "id": "_EULezoe4Jj4"
      },
      "source": [
        "for(i in 1:length(number_names)) {\n",
        "  writeLines(str_c(hickory, \",\\n\"))\n",
        "  writeLines(str_c(mouse, \",\\n\"))\n",
        "  writeLines(str_c(clock, number_names[i], \"\\n\"))\n",
        "  writeLines(str_c(line4_options[i], \"\\n\"))\n",
        "  writeLines(str_c(hickory,\".\",\"\\n\\n\\n\"))\n",
        "}"
      ],
      "execution_count": null,
      "outputs": []
    },
    {
      "cell_type": "markdown",
      "metadata": {
        "id": "FinhV5JwXRWJ"
      },
      "source": [
        "### Problem 4, _5 points_"
      ]
    },
    {
      "cell_type": "markdown",
      "metadata": {
        "id": "aXydSzA74Jj5"
      },
      "source": [
        "**(1)** We will repeat the model fitting and model visualization exercise from Lecture 21 but with quadratic models instead of linear ones. In a linear model, we need just two coefficients: intercept `a1` and slope `a2`. But now we will need three: intercept `a1`, linear coefficient `a2`, and quadratic coefficient `a3`. We have defined the tibble `models` below just as in Lecture 21 notebook except that now it also has an `a3` column. Another difference is that our model parameters are now not chosen randomly but are based on a fixed grid."
      ]
    },
    {
      "cell_type": "code",
      "metadata": {
        "id": "TpYXxlFe4Jj5"
      },
      "source": [
        "# DO NOT EDIT THIS CELL\n",
        "models <- expand_grid(\n",
        "    a1=seq(-20,40,length=20),\n",
        "    a2=seq(-5,5,length=20),\n",
        "    a3=seq(-1,1,length=20)\n",
        ")"
      ],
      "execution_count": null,
      "outputs": []
    },
    {
      "cell_type": "markdown",
      "metadata": {
        "id": "g9Abb5un4Jj5"
      },
      "source": [
        "Redefine the `model_prediction` function so that it now works properly with quadratic models where the `model` argument will be a vector of length 3 consisting of intercept, linear coefficient, and quadratic coefficient. _1 point_"
      ]
    },
    {
      "cell_type": "code",
      "metadata": {
        "id": "NW3LoK2d4Jj6"
      },
      "source": [
        "# SOLUTION CELL\n",
        "model_prediction <- function(models, data){\n",
        "  model[1] + data$x * model [2] + data$x * data$x * model[3]\n",
        "}\n"
      ],
      "execution_count": null,
      "outputs": []
    },
    {
      "cell_type": "markdown",
      "metadata": {
        "id": "ELXR7cWf4Jj6"
      },
      "source": [
        "**(2)** Redefine the `measure_distance` function so that it computed [mean absolute error](https://en.wikipedia.org/wiki/Mean_absolute_error) (MAE) instead of root mean squared error (RMSE). _1 point_"
      ]
    },
    {
      "cell_type": "code",
      "metadata": {
        "id": "sr8KB1gv4Jj6"
      },
      "source": [
        "# SOLUTION CELL\n",
        "measure_distance <- function(models, data){\n",
        "  predictions <- model_predictions(models, data)\n",
        "  error <- data$y - predictions \n",
        "  mean(abs(error))\n",
        "}"
      ],
      "execution_count": null,
      "outputs": []
    },
    {
      "cell_type": "markdown",
      "metadata": {
        "id": "2R41VvMa4Jj6"
      },
      "source": [
        "**(3)** Redefine the function `sim1_dist` so that it now takes three model parameters as input instead of two. _1 point_"
      ]
    },
    {
      "cell_type": "code",
      "metadata": {
        "id": "RugRzk_N4Jj6"
      },
      "source": [
        "# SOLUTION CELL\n",
        "sim1_dist <- function(a1, a2, a3) {\n",
        "  measure_distance(c(a1, a2, a3), sim1)\n",
        "}\n"
      ],
      "execution_count": null,
      "outputs": []
    },
    {
      "cell_type": "markdown",
      "metadata": {
        "id": "rymoUc3q4Jj6"
      },
      "source": [
        "**(4)** Use the function `sim1_dist` to add a column `dist` to `models`. In the linear model case, we used `map2_dbl`. Now you will have to use `pmap_dbl` that can apply a function with more than two arguments to each row of a tibble. _1 point_"
      ]
    },
    {
      "cell_type": "code",
      "metadata": {
        "id": "i0agu4PQ4Jj6"
      },
      "source": [
        "models <- models %>% \n",
        "mutate(dist = pmap_dbl(list(a1,a2,a3), sim1_dist))"
      ],
      "execution_count": null,
      "outputs": []
    },
    {
      "cell_type": "markdown",
      "metadata": {
        "id": "Hj6zHuK14Jj6"
      },
      "source": [
        "Let us now compute the best model and store the three parameters of the best models in the variables `best_a1`, `best_a2` and `best_a3`"
      ]
    },
    {
      "cell_type": "code",
      "metadata": {
        "id": "iGBp3-nQ4Jj7"
      },
      "source": [
        "# DO NOT EDIT THIS CELL\n",
        "best_a1 <- top_n(models, 1, -dist)[[1]]\n",
        "best_a2 <- top_n(models, 1, -dist)[[2]]\n",
        "best_a3 <- top_n(models, 1, -dist)[[3]]\n",
        "print(best_a1)\n",
        "print(best_a2)\n",
        "print(best_a3)"
      ],
      "execution_count": null,
      "outputs": []
    },
    {
      "cell_type": "markdown",
      "metadata": {
        "id": "YS2FXVhj4Jj7"
      },
      "source": [
        "**(5)** Superimpose the fitted model on the scatterplot of the data. Since `geom_abline()` cannot plot a quadratic model, use\n",
        "`stat_function()` instead. Here is the documentation for\n",
        "stat_function for your reference:\n",
        "https://ggplot2.tidyverse.org/reference/geom_function.html\n",
        "The points should appear in blue and the superimposed fitted model should be in red. _1 point_"
      ]
    },
    {
      "cell_type": "code",
      "metadata": {
        "id": "P_rP9R314Jj7"
      },
      "source": [
        "# SOLUTION CELL\n",
        "ggplot() +\n",
        "  geom_point()+ \n",
        "  stat_function(fun = function(x) (besta1 + besta2 * x + best_3 *x *x), color = \"red\")"
      ],
      "execution_count": null,
      "outputs": []
    }
  ]
}